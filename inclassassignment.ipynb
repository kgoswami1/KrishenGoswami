{
  "nbformat": 4,
  "nbformat_minor": 0,
  "metadata": {
    "colab": {
      "provenance": [],
      "authorship_tag": "ABX9TyO1JELmS9FbsuXizTHQtULH",
      "include_colab_link": true
    },
    "kernelspec": {
      "name": "python3",
      "display_name": "Python 3"
    },
    "language_info": {
      "name": "python"
    }
  },
  "cells": [
    {
      "cell_type": "markdown",
      "metadata": {
        "id": "view-in-github",
        "colab_type": "text"
      },
      "source": [
        "<a href=\"https://colab.research.google.com/github/kgoswami1/KrishenGoswami/blob/main/inclassassignment.ipynb\" target=\"_parent\"><img src=\"https://colab.research.google.com/assets/colab-badge.svg\" alt=\"Open In Colab\"/></a>"
      ]
    },
    {
      "cell_type": "code",
      "execution_count": null,
      "metadata": {
        "colab": {
          "base_uri": "https://localhost:8080/"
        },
        "id": "gtvdawManS1e",
        "outputId": "86bde60e-767c-4811-ca67-9a4533d1e184"
      },
      "outputs": [
        {
          "output_type": "stream",
          "name": "stdout",
          "text": [
            "Please provide the radius:3\n",
            "Please provide the height:7\n",
            "Area of the cylinder = 188.4 sq.ft\n"
          ]
        }
      ],
      "source": [
        "#Cylinder area calculator\n",
        "radius = float(input('Please provide the radius:'))\n",
        "pi = 3.14\n",
        "height = float(input('Please provide the height:'))\n",
        "\n",
        "area = (2* pi * radius ** 2 + 2 * pi * radius * height)\n",
        "print(f'Area of the cylinder = {area} sq.ft')"
      ]
    },
    {
      "cell_type": "code",
      "source": [
        "#Numerical calculator\n",
        "n1 = float(input('Please provide first number: '))\n",
        "n2 = float(input('Please provide second number: '))\n",
        "s = input('Please provide operator (+, -, /, //, *, **, %): ')\n",
        "\n",
        "if s == '+':\n",
        "    print(f'{n1} + {n2} = {n1+n2}')\n",
        "elif s == '-':\n",
        "    print(f'{n1} - {n2} = {n1-n2}')\n",
        "elif s == '/':\n",
        "    print(f'{n1} / {n2} = {n1/n2}')\n",
        "elif s == '//':\n",
        "    print(f'{n1} // {n2} = {n1//n2}')\n",
        "elif s == '*':\n",
        "    print(f'{n1} * {n2} = {n1*n2}')\n",
        "elif s == '**':\n",
        "    print(f'{n1} ** {n2} = {n1**n2}')\n",
        "elif s == '%':\n",
        "    print(f'{n1} % {n2} = {n1%n2}')\n",
        "else:\n",
        "    print('Invalid Operator')"
      ],
      "metadata": {
        "colab": {
          "base_uri": "https://localhost:8080/"
        },
        "id": "kFoDRu-ec9KM",
        "outputId": "1d280646-fff4-4e9e-ed6a-3aa2af6d152c"
      },
      "execution_count": 1,
      "outputs": [
        {
          "output_type": "stream",
          "name": "stdout",
          "text": [
            "Please provide first number: 12\n",
            "Please provide second number: 12\n",
            "Please provide operator (+, -, /, //, *, **, %): *\n",
            "12.0 * 12.0 = 144.0\n"
          ]
        }
      ]
    },
    {
      "cell_type": "code",
      "source": [
        "#Parking Garage\n",
        "for hours in range(1, 9):\n",
        "    fee = 5 + (2.5 * hours)\n",
        "    if fee < 10:\n",
        "        fee = 10\n",
        "    elif fee >= 20:\n",
        "        fee = 20\n",
        "    print(hours, fee)"
      ],
      "metadata": {
        "colab": {
          "base_uri": "https://localhost:8080/"
        },
        "id": "j5UPWRtnUsl5",
        "outputId": "5edc0009-fa6a-45e5-8def-cbe55edc75b3"
      },
      "execution_count": 2,
      "outputs": [
        {
          "output_type": "stream",
          "name": "stdout",
          "text": [
            "1 10\n",
            "2 10.0\n",
            "3 12.5\n",
            "4 15.0\n",
            "5 17.5\n",
            "6 20\n",
            "7 20\n",
            "8 20\n"
          ]
        }
      ]
    },
    {
      "cell_type": "code",
      "source": [
        "#Movie Theater\n",
        "print ('Ad$','Profit')\n",
        "for adcost in range(0, 201, 25):\n",
        "  additional = 2 * round(adcost ** 0.5)\n",
        "  profit = (20 + additional) *  10 - 200 - adcost\n",
        "  print(adcost, '\\t', profit)"
      ],
      "metadata": {
        "colab": {
          "base_uri": "https://localhost:8080/"
        },
        "id": "_SsdtD1jU1pT",
        "outputId": "2b93d81b-78a8-4ef1-a8d2-0d4368d21f0e"
      },
      "execution_count": 3,
      "outputs": [
        {
          "output_type": "stream",
          "name": "stdout",
          "text": [
            "Ad$ Profit\n",
            "0 \t 0\n",
            "25 \t 75\n",
            "50 \t 90\n",
            "75 \t 105\n",
            "100 \t 100\n",
            "125 \t 95\n",
            "150 \t 90\n",
            "175 \t 85\n",
            "200 \t 80\n"
          ]
        }
      ]
    },
    {
      "cell_type": "code",
      "source": [
        "#Rock Paper Scissors\n",
        "play = input('Do you want to play a game (yes/no)?')\n",
        "\n",
        "while play == 'yes':\n",
        "  p1 = input('Player 1 - Choose between rock/paper/scissors: ')\n",
        "  p2 = input('Player 2: Choose between rock/paper/scissors: ')\n",
        "\n",
        "  if p1 == p2:\n",
        "    print('Draw')\n",
        "  elif ((p1 == 'Rock' and p2 == 'Scissors') or\n",
        "   (p1 == 'Scissors' and p2 == 'Paper') or\n",
        "    (p1 == 'Paper' and p2 == 'Rock')):\n",
        "    print('Player 1 wins!')\n",
        "  else:\n",
        "    print('Player 2 wins!')\n",
        "\n",
        "  play = input('Do you want to play a new game (yes/no)?')\n",
        "\n",
        "print('Good day!')"
      ],
      "metadata": {
        "colab": {
          "base_uri": "https://localhost:8080/"
        },
        "id": "SqiQw72wU7DQ",
        "outputId": "b24afab5-d7f5-4387-a279-d4ad49c86e1f"
      },
      "execution_count": 4,
      "outputs": [
        {
          "output_type": "stream",
          "name": "stdout",
          "text": [
            "Do you want to play a game (yes/no)?yes\n",
            "Player 1 - Choose between rock/paper/scissors: rock\n",
            "Player 2: Choose between rock/paper/scissors: scissors\n",
            "Player 2 wins!\n",
            "Do you want to play a new game (yes/no)?no\n",
            "Good day!\n"
          ]
        }
      ]
    },
    {
      "cell_type": "code",
      "source": [
        "#Append items to list iteratively\n",
        "lst = []\n",
        "\n",
        "while True:\n",
        "  num = int(input('Give a number: '))\n",
        "  if num == 0.0:\n",
        "    break\n",
        "  lst.append(num)\n",
        "lst.sort(reverse=True)\n",
        "print(lst)"
      ],
      "metadata": {
        "colab": {
          "base_uri": "https://localhost:8080/"
        },
        "id": "zEf2icKcVcGV",
        "outputId": "258b73ab-cc5d-462d-83b3-5f941e3c74f6"
      },
      "execution_count": 5,
      "outputs": [
        {
          "output_type": "stream",
          "name": "stdout",
          "text": [
            "Give a number: 2\n",
            "Give a number: 2\n",
            "Give a number: 2\n",
            "Give a number: 2\n",
            "Give a number: 0\n",
            "[2, 2, 2, 2]\n"
          ]
        }
      ]
    },
    {
      "cell_type": "code",
      "source": [
        "#Dynamic dictionary of number:month pairs\n",
        "months = {}\n",
        "\n",
        "names = [\"Jan\", \"Feb\", \"March\", \"Apr\", \"May\", \"June\", \"July\", \"Aug\", \"Sep\", \"Oct\", \"Nov\", \"Dec\"]\n",
        "numbers = [1, 2, 3, 4, 5, 6, 7, 8, 9, 10, 11, 12]\n",
        "\n",
        "for idx in range(len(names)):\n",
        "  months[numbers[idx]] = names[idx]\n",
        "months"
      ],
      "metadata": {
        "colab": {
          "base_uri": "https://localhost:8080/"
        },
        "id": "Msu3-_ZUVwEe",
        "outputId": "539d1f51-c764-4754-b434-3780661e517d"
      },
      "execution_count": 6,
      "outputs": [
        {
          "output_type": "execute_result",
          "data": {
            "text/plain": [
              "{1: 'Jan',\n",
              " 2: 'Feb',\n",
              " 3: 'March',\n",
              " 4: 'Apr',\n",
              " 5: 'May',\n",
              " 6: 'June',\n",
              " 7: 'July',\n",
              " 8: 'Aug',\n",
              " 9: 'Sep',\n",
              " 10: 'Oct',\n",
              " 11: 'Nov',\n",
              " 12: 'Dec'}"
            ]
          },
          "metadata": {},
          "execution_count": 6
        }
      ]
    },
    {
      "cell_type": "code",
      "source": [
        "#Dynamic dictionary; 5 distinct key:value pairs\n",
        "list = {}\n",
        "\n",
        "while len(list) < 5:\n",
        "    user_input = input(\"Enter a string: \")\n",
        "\n",
        "    if user_input in list:\n",
        "      list[user_input] += 1\n",
        "    else:\n",
        "      list[user_input] = 1\n",
        "\n",
        "print(list)"
      ],
      "metadata": {
        "colab": {
          "base_uri": "https://localhost:8080/"
        },
        "id": "ymsUKrf9V2km",
        "outputId": "51f15d98-bb08-46bc-9925-506fd216f1a4"
      },
      "execution_count": 9,
      "outputs": [
        {
          "output_type": "stream",
          "name": "stdout",
          "text": [
            "Enter a string: d\n",
            "Enter a string: f\n",
            "Enter a string: g\n",
            "Enter a string: h\n",
            "Enter a string: k\n",
            "{'d': 1, 'f': 1, 'g': 1, 'h': 1, 'k': 1}\n"
          ]
        }
      ]
    },
    {
      "cell_type": "code",
      "source": [
        "#Parking garage: calcFee function\n",
        "def calcFee(hours):\n",
        "  fee = 5 + (2.5 * hours)\n",
        "  if fee < 10:\n",
        "    fee = 10.0\n",
        "  elif fee > 20:\n",
        "    fee = 20.0\n",
        "  print(f'Fee: {fee}$')\n",
        "\n",
        "calcFee(2)"
      ],
      "metadata": {
        "colab": {
          "base_uri": "https://localhost:8080/"
        },
        "id": "Ri4b8Fw0Wj8Q",
        "outputId": "3b25990e-e0b4-4d32-ca7e-b564d98e2b06"
      },
      "execution_count": 17,
      "outputs": [
        {
          "output_type": "stream",
          "name": "stdout",
          "text": [
            "Fee: 10.0$\n"
          ]
        }
      ]
    },
    {
      "cell_type": "code",
      "source": [
        "#Recursive function: string reversal\n",
        "def reverse(s):\n",
        "  if len(s) ==1:\n",
        "    return s\n",
        "  else:\n",
        "    #return s[-1] + reverse (s[:-1])\n",
        "    #return s[-1] + reverse(s[1:-1]) + s[0]\n",
        "    return reverse(s[1:]) + s[0]\n",
        "reverse(\"Hello\")"
      ],
      "metadata": {
        "colab": {
          "base_uri": "https://localhost:8080/",
          "height": 35
        },
        "id": "CrhSw9IaWs_9",
        "outputId": "03331330-3db5-4a57-9e2c-c4284502fcf0"
      },
      "execution_count": 14,
      "outputs": [
        {
          "output_type": "execute_result",
          "data": {
            "text/plain": [
              "'olleH'"
            ],
            "application/vnd.google.colaboratory.intrinsic+json": {
              "type": "string"
            }
          },
          "metadata": {},
          "execution_count": 14
        }
      ]
    },
    {
      "cell_type": "code",
      "source": [
        "#Parking garage/1st question of Assignment II using exception handling\n",
        "def main():\n",
        "  try:\n",
        "    numHours = int(input('Enter number of hours: '))\n",
        "    calcFee(numHours)\n",
        "  except ValueError:\n",
        "    print('Cannot cast to int().')\n",
        "  except:\n",
        "    print('Unknown error.')\n",
        "\n",
        "if __name__ == \"__main__\":\n",
        "  main()"
      ],
      "metadata": {
        "colab": {
          "base_uri": "https://localhost:8080/"
        },
        "id": "2FJ-VZkgY00t",
        "outputId": "dd97cb42-b8e7-431d-8314-c9d27b227fec"
      },
      "execution_count": 18,
      "outputs": [
        {
          "output_type": "stream",
          "name": "stdout",
          "text": [
            "Enter number of hours: 2\n",
            "Fee: 10.0$\n"
          ]
        }
      ]
    },
    {
      "cell_type": "code",
      "source": [
        "#Greeting class\n",
        "class Greeting:\n",
        "    def __init__(self, first, last):\n",
        "        self.first = first\n",
        "        self.last = last\n",
        "    def display(self, formal=False):\n",
        "      if formal:\n",
        "        print(f'Hi {self.first} {self.last}')\n",
        "      else:\n",
        "        print(f'Hi {self.first}')\n",
        "    def __str__(self):\n",
        "      return \"{}, {}\" .format(self.first, self.last)\n",
        "      return f'{self.first}, {self.last}'\n",
        "      return str(self.first) + \", \" + str(self.last)\n",
        "\n",
        "greeting = Greeting('Donald', 'Becker')\n",
        "greeting2 = Greeting('Bob', 'Dylan')\n",
        "greeting.display(formal=True)\n",
        "print(greeting)\n",
        "print(greeting2)\n"
      ],
      "metadata": {
        "colab": {
          "base_uri": "https://localhost:8080/"
        },
        "id": "753eock7Y4Tt",
        "outputId": "f02bd28d-dcf3-4c65-ec2b-508d00c2e79c"
      },
      "execution_count": 19,
      "outputs": [
        {
          "output_type": "stream",
          "name": "stdout",
          "text": [
            "Hi Donald Becker\n",
            "Donald, Becker\n",
            "Bob, Dylan\n"
          ]
        }
      ]
    },
    {
      "cell_type": "code",
      "source": [
        "#Student Class\n",
        "class Student:\n",
        "  def __init__(self, name, number):\n",
        "    self.name = name\n",
        "    self.__number = number\n",
        "    self.__courses = []\n",
        "\n",
        "  def get_number(self): #getter method for number attribute\n",
        "    return self.__number\n",
        "\n",
        "  def set_number(self, newnumber): #setter method for number atribution\n",
        "    self.__number = newnumber\n",
        "\n",
        "  def enroll(self, course):\n",
        "    if course not in self.__courses:\n",
        "      self.__courses.append(course)\n",
        "    else:\n",
        "       print(f'You have already enrolled in {course}.')\n",
        "\n",
        "  def get_courses(self):\n",
        "    return self.__courses\n",
        "\n",
        "s1 = Student('Bob', 100)\n",
        "s2 = Student('Alice', 101)\n",
        "print(s1.name, s2.name)"
      ],
      "metadata": {
        "colab": {
          "base_uri": "https://localhost:8080/"
        },
        "id": "YBr-9RqJZAdx",
        "outputId": "800b1870-3553-4009-e638-4880e43b6f91"
      },
      "execution_count": 20,
      "outputs": [
        {
          "output_type": "stream",
          "name": "stdout",
          "text": [
            "Bob Alice\n"
          ]
        }
      ]
    },
    {
      "cell_type": "code",
      "source": [
        "# Classes Point and Rectangle\n",
        "import math\n",
        "\n",
        "class Point:\n",
        "  def __init__(self, x, y):\n",
        "    self.x = x\n",
        "    self.y = y\n",
        "\n",
        "  def distance(self, other):\n",
        "    dx = (self.x - other.x) ** 2\n",
        "    dy = (self.y - other.y) ** 2\n",
        "    dist = math.sqrt(dx + dy)\n",
        "    print(dist)\n",
        "    return dist\n",
        "\n",
        "class Rectangle:\n",
        "  def __init__(self):\n",
        "    self.c1 = Point(0, 0)\n",
        "    self.c2 = Point(0, 2)\n",
        "    self.c3 = Point(2, 0)\n",
        "    self.c4 = Point(2, 2)\n",
        "    self.width = self.calculate_width()\n",
        "    self.height = self.calculate_height()\n",
        "\n",
        "  def calculate_width(self):\n",
        "    return self.c1.distance(self.c2)\n",
        "\n",
        "  def calculate_height(self):\n",
        "    return self.c3.distance(self.c4)\n",
        "\n",
        "  def area(self):\n",
        "    return self.width * self.height\n",
        "\n",
        "square = Rectangle()\n",
        "square.area()"
      ],
      "metadata": {
        "colab": {
          "base_uri": "https://localhost:8080/"
        },
        "id": "v5oaunhWZ-1r",
        "outputId": "10bad0d9-1de0-417d-dce7-941c1a35c846"
      },
      "execution_count": 21,
      "outputs": [
        {
          "output_type": "stream",
          "name": "stdout",
          "text": [
            "2.0\n",
            "2.0\n"
          ]
        },
        {
          "output_type": "execute_result",
          "data": {
            "text/plain": [
              "4.0"
            ]
          },
          "metadata": {},
          "execution_count": 21
        }
      ]
    }
  ]
}