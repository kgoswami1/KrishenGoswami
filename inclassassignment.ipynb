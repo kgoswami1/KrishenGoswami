{
  "nbformat": 4,
  "nbformat_minor": 0,
  "metadata": {
    "colab": {
      "provenance": [],
      "authorship_tag": "ABX9TyO/XxB7YTN5Q5+61bA3NWYs",
      "include_colab_link": true
    },
    "kernelspec": {
      "name": "python3",
      "display_name": "Python 3"
    },
    "language_info": {
      "name": "python"
    }
  },
  "cells": [
    {
      "cell_type": "markdown",
      "metadata": {
        "id": "view-in-github",
        "colab_type": "text"
      },
      "source": [
        "<a href=\"https://colab.research.google.com/github/kgoswami1/KrishenGoswami/blob/main/inclassassignment.ipynb\" target=\"_parent\"><img src=\"https://colab.research.google.com/assets/colab-badge.svg\" alt=\"Open In Colab\"/></a>"
      ]
    },
    {
      "cell_type": "code",
      "execution_count": null,
      "metadata": {
        "colab": {
          "base_uri": "https://localhost:8080/"
        },
        "id": "gtvdawManS1e",
        "outputId": "86bde60e-767c-4811-ca67-9a4533d1e184"
      },
      "outputs": [
        {
          "output_type": "stream",
          "name": "stdout",
          "text": [
            "Please provide the radius:3\n",
            "Please provide the height:7\n",
            "Area of the cylinder = 188.4 sq.ft\n"
          ]
        }
      ],
      "source": [
        "radius = float(input('Please provide the radius:'))\n",
        "pi = 3.14\n",
        "height = float(input('Please provide the height:'))\n",
        "\n",
        "area = (2* pi * radius ** 2 + 2 * pi * radius * height)\n",
        "print(f'Area of the cylinder = {area} sq.ft')"
      ]
    },
    {
      "cell_type": "code",
      "source": [
        "num1 = float(input(\"Enter first number: \"))\n",
        "num2 = float(input(\"Enter second number: \"))\n",
        "operator = input(\"Enter operator: \")\n",
        "\n",
        "if operator == \"*\":\n",
        "    print(num1 * num2)\n",
        "elif operator == \"/\":\n",
        "    print(num1 / num2)\n",
        "elif operator == \"+\":\n",
        "    print(num1 + num2)\n",
        "elif operator == \"-\":\n",
        "    print(num1 - num2)\n",
        "elif operator == \"**\":\n",
        "    print(num1 ** num2)\n",
        "elif operator == \"%\":\n",
        "    print(num1 % num2)\n",
        "elif operator == \"//\":\n",
        "    print(num1 // num2)\n",
        "else:\n",
        "    print(\"Invalid operator\")"
      ],
      "metadata": {
        "colab": {
          "base_uri": "https://localhost:8080/"
        },
        "id": "kFoDRu-ec9KM",
        "outputId": "81a68ffa-1866-467b-b36c-2e6eee17bae3"
      },
      "execution_count": 1,
      "outputs": [
        {
          "output_type": "stream",
          "name": "stdout",
          "text": [
            "Enter first number: 5\n",
            "Enter second number: 9\n",
            "Enter operator: /\n",
            "0.5555555555555556\n"
          ]
        }
      ]
    }
  ]
}