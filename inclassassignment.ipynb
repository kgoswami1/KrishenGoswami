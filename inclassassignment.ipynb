{
  "nbformat": 4,
  "nbformat_minor": 0,
  "metadata": {
    "colab": {
      "provenance": [],
      "authorship_tag": "ABX9TyOTOTmqwvvwnzCovXk8MsId",
      "include_colab_link": true
    },
    "kernelspec": {
      "name": "python3",
      "display_name": "Python 3"
    },
    "language_info": {
      "name": "python"
    }
  },
  "cells": [
    {
      "cell_type": "markdown",
      "metadata": {
        "id": "view-in-github",
        "colab_type": "text"
      },
      "source": [
        "<a href=\"https://colab.research.google.com/github/kgoswami1/KrishenGoswami/blob/main/inclassassignment.ipynb\" target=\"_parent\"><img src=\"https://colab.research.google.com/assets/colab-badge.svg\" alt=\"Open In Colab\"/></a>"
      ]
    },
    {
      "cell_type": "code",
      "execution_count": 2,
      "metadata": {
        "colab": {
          "base_uri": "https://localhost:8080/"
        },
        "id": "gtvdawManS1e",
        "outputId": "86bde60e-767c-4811-ca67-9a4533d1e184"
      },
      "outputs": [
        {
          "output_type": "stream",
          "name": "stdout",
          "text": [
            "Please provide the radius:3\n",
            "Please provide the height:7\n",
            "Area of the cylinder = 188.4 sq.ft\n"
          ]
        }
      ],
      "source": [
        "radius = float(input('Please provide the radius:'))\n",
        "pi = 3.14\n",
        "height = float(input('Please provide the height:'))\n",
        "\n",
        "area = (2* pi * radius ** 2 + 2 * pi * radius * height)\n",
        "print(f'Area of the cylinder = {area} sq.ft')"
      ]
    }
  ]
}